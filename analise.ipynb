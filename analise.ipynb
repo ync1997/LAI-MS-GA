{
 "cells": [
  {
   "cell_type": "markdown",
   "metadata": {},
   "source": [
    "# IMPORTS"
   ]
  },
  {
   "cell_type": "code",
   "execution_count": 1,
   "metadata": {},
   "outputs": [],
   "source": [
    "import pandas as pd\n",
    "import numpy as np\n",
    "from nltk.corpus import stopwords\n",
    "from unidecode import unidecode\n",
    "from pandas_profiling import ProfileReport\n",
    "import matplotlib.pyplot as plt\n",
    "import string\n"
   ]
  },
  {
   "cell_type": "markdown",
   "metadata": {},
   "source": [
    "# READ"
   ]
  },
  {
   "cell_type": "code",
   "execution_count": 2,
   "metadata": {},
   "outputs": [],
   "source": [
    "#Alterar o PATH pelo path de onde deseja ler os arquivos .csv\n",
    "df = pd.read_csv('C:/PATH' , sep = ';', encoding='utf-16',header=None)\n",
    "df2 = pd.read_csv('C:/PATH' , sep = ';', encoding='utf-16',header=None)\n",
    "df3 = pd.read_csv('C:/PATH' , sep = ';', encoding='utf-16',header=None)\n",
    "df4 = pd.read_csv('C:/PATH' , sep = ';', encoding='utf-16',header=None)\n"
   ]
  },
  {
   "cell_type": "code",
   "execution_count": 3,
   "metadata": {},
   "outputs": [],
   "source": [
    "df.columns =['IdPedido','ProtocoloPedido','Esfera','OrgaoDestinatario','Situacao','DataRegistro','ResumoSolicitacao','DetalhamentoSolicitacao','PrazoAtendimento','FoiProrrogado','FoiReencaminhado','FormaResposta','OrigemSolicitacao','IdSolicitante','AssuntoPedido','SubAssuntoPedido','Tag','DataResposta','Resposta','Decisao','EspecificacaoDecisao']\n",
    "df2.columns =['IdPedido','ProtocoloPedido','Esfera','OrgaoDestinatario','Situacao','DataRegistro','ResumoSolicitacao','DetalhamentoSolicitacao','PrazoAtendimento','FoiProrrogado','FoiReencaminhado','FormaResposta','OrigemSolicitacao','IdSolicitante','AssuntoPedido','SubAssuntoPedido','Tag','DataResposta','Resposta','Decisao','EspecificacaoDecisao']\n",
    "df3.columns =['IdPedido','ProtocoloPedido','Esfera','OrgaoDestinatario','Situacao','DataRegistro','ResumoSolicitacao','DetalhamentoSolicitacao','PrazoAtendimento','FoiProrrogado','FoiReencaminhado','FormaResposta','OrigemSolicitacao','IdSolicitante','AssuntoPedido','SubAssuntoPedido','Tag','DataResposta','Resposta','Decisao','EspecificacaoDecisao']\n",
    "df4.columns =['IdPedido','ProtocoloPedido','Esfera','OrgaoDestinatario','Situacao','DataRegistro','ResumoSolicitacao','DetalhamentoSolicitacao','PrazoAtendimento','FoiProrrogado','FoiReencaminhado','FormaResposta','OrigemSolicitacao','IdSolicitante','AssuntoPedido','SubAssuntoPedido','Tag','DataResposta','Resposta','Decisao','EspecificacaoDecisao']\n"
   ]
  },
  {
   "cell_type": "code",
   "execution_count": 4,
   "metadata": {},
   "outputs": [],
   "source": [
    "df_saude = df.loc[df['OrgaoDestinatario'] == \"MS – Ministério da Saúde\"].copy()\n",
    "df_saude2 = df2.loc[df2['OrgaoDestinatario'] == \"MS – Ministério da Saúde\"].copy()\n",
    "df_saude3 = df3.loc[df3['OrgaoDestinatario'] == \"MS – Ministério da Saúde\"].copy()\n",
    "df_saude4 = df4.loc[df4['OrgaoDestinatario'] == \"MS – Ministério da Saúde\"].copy()"
   ]
  },
  {
   "cell_type": "code",
   "execution_count": 5,
   "metadata": {},
   "outputs": [
    {
     "data": {
      "text/html": [
       "<div>\n",
       "<style scoped>\n",
       "    .dataframe tbody tr th:only-of-type {\n",
       "        vertical-align: middle;\n",
       "    }\n",
       "\n",
       "    .dataframe tbody tr th {\n",
       "        vertical-align: top;\n",
       "    }\n",
       "\n",
       "    .dataframe thead th {\n",
       "        text-align: right;\n",
       "    }\n",
       "</style>\n",
       "<table border=\"1\" class=\"dataframe\">\n",
       "  <thead>\n",
       "    <tr style=\"text-align: right;\">\n",
       "      <th></th>\n",
       "      <th>IdPedido</th>\n",
       "      <th>ProtocoloPedido</th>\n",
       "      <th>Esfera</th>\n",
       "      <th>OrgaoDestinatario</th>\n",
       "      <th>Situacao</th>\n",
       "      <th>DataRegistro</th>\n",
       "      <th>ResumoSolicitacao</th>\n",
       "      <th>DetalhamentoSolicitacao</th>\n",
       "      <th>PrazoAtendimento</th>\n",
       "      <th>FoiProrrogado</th>\n",
       "      <th>...</th>\n",
       "      <th>FormaResposta</th>\n",
       "      <th>OrigemSolicitacao</th>\n",
       "      <th>IdSolicitante</th>\n",
       "      <th>AssuntoPedido</th>\n",
       "      <th>SubAssuntoPedido</th>\n",
       "      <th>Tag</th>\n",
       "      <th>DataResposta</th>\n",
       "      <th>Resposta</th>\n",
       "      <th>Decisao</th>\n",
       "      <th>EspecificacaoDecisao</th>\n",
       "    </tr>\n",
       "  </thead>\n",
       "  <tbody>\n",
       "    <tr>\n",
       "      <th>10</th>\n",
       "      <td>1493024</td>\n",
       "      <td>25820000001201869</td>\n",
       "      <td>Federal</td>\n",
       "      <td>MS – Ministério da Saúde</td>\n",
       "      <td>Concluída</td>\n",
       "      <td>01/01/2018</td>\n",
       "      <td>Repasses anuais a hospitais universitários</td>\n",
       "      <td>Por ano, entre 2007 e 2017, quanto (em reais) ...</td>\n",
       "      <td>22/01/2018</td>\n",
       "      <td>Não</td>\n",
       "      <td>...</td>\n",
       "      <td>Pelo sistema (com avisos por email)</td>\n",
       "      <td>Internet</td>\n",
       "      <td>2309780</td>\n",
       "      <td>Outros em Saúde</td>\n",
       "      <td></td>\n",
       "      <td></td>\n",
       "      <td>22/01/2018</td>\n",
       "      <td>OS REPASSES FEDERAIS REALIZADOS PELO FUNDO NAC...</td>\n",
       "      <td>Acesso Concedido</td>\n",
       "      <td>Resposta solicitada inserida no Fala.Br</td>\n",
       "    </tr>\n",
       "    <tr>\n",
       "      <th>56</th>\n",
       "      <td>1493082</td>\n",
       "      <td>25820000003201858</td>\n",
       "      <td>Federal</td>\n",
       "      <td>MS – Ministério da Saúde</td>\n",
       "      <td>Concluída</td>\n",
       "      <td>02/01/2018</td>\n",
       "      <td>Dúvidas à respeito de Cuidados Transfusionais ...</td>\n",
       "      <td>Ilmo Sr (a), Boa tarde!     Meu nome é Kátia R...</td>\n",
       "      <td>22/01/2018</td>\n",
       "      <td>Não</td>\n",
       "      <td>...</td>\n",
       "      <td>Pelo sistema (com avisos por email)</td>\n",
       "      <td>Internet</td>\n",
       "      <td>2847134</td>\n",
       "      <td>Outros em Saúde</td>\n",
       "      <td></td>\n",
       "      <td></td>\n",
       "      <td>22/01/2018</td>\n",
       "      <td>Prezada,  Segue, em 2 anexos, a resposta dispo...</td>\n",
       "      <td>Acesso Concedido</td>\n",
       "      <td>Resposta solicitada inserida no Fala.Br</td>\n",
       "    </tr>\n",
       "    <tr>\n",
       "      <th>57</th>\n",
       "      <td>1493083</td>\n",
       "      <td>25820000004201801</td>\n",
       "      <td>Federal</td>\n",
       "      <td>MS – Ministério da Saúde</td>\n",
       "      <td>Concluída</td>\n",
       "      <td>02/01/2018</td>\n",
       "      <td>Aplicação de Reiki no SUS.</td>\n",
       "      <td>Bom dia! No ano passado foi divulgado que tera...</td>\n",
       "      <td>22/01/2018</td>\n",
       "      <td>Não</td>\n",
       "      <td>...</td>\n",
       "      <td>Pelo sistema (com avisos por email)</td>\n",
       "      <td>Internet</td>\n",
       "      <td>2847133</td>\n",
       "      <td>Outros em Saúde</td>\n",
       "      <td></td>\n",
       "      <td></td>\n",
       "      <td>22/01/2018</td>\n",
       "      <td>Os profissionais que desejam atender com práti...</td>\n",
       "      <td>Acesso Concedido</td>\n",
       "      <td>Resposta solicitada inserida no Fala.Br</td>\n",
       "    </tr>\n",
       "    <tr>\n",
       "      <th>101</th>\n",
       "      <td>1493151</td>\n",
       "      <td>25820000006201891</td>\n",
       "      <td>Federal</td>\n",
       "      <td>MS – Ministério da Saúde</td>\n",
       "      <td>Concluída</td>\n",
       "      <td>02/01/2018</td>\n",
       "      <td>Doença</td>\n",
       "      <td>Bom Dia, gostaria de saber como faço para reso...</td>\n",
       "      <td>01/02/2018</td>\n",
       "      <td>Sim</td>\n",
       "      <td>...</td>\n",
       "      <td>Pelo sistema (com avisos por email)</td>\n",
       "      <td>Internet</td>\n",
       "      <td>2847193</td>\n",
       "      <td>Outros em Saúde</td>\n",
       "      <td></td>\n",
       "      <td></td>\n",
       "      <td>31/01/2018</td>\n",
       "      <td>PREZADA CIDADã, INFORMAMOS ABAIXO A RESPOSTA à...</td>\n",
       "      <td>Acesso Concedido</td>\n",
       "      <td>Resposta solicitada inserida no Fala.Br</td>\n",
       "    </tr>\n",
       "    <tr>\n",
       "      <th>180</th>\n",
       "      <td>1493246</td>\n",
       "      <td>25820000009201825</td>\n",
       "      <td>Federal</td>\n",
       "      <td>MS – Ministério da Saúde</td>\n",
       "      <td>Concluída</td>\n",
       "      <td>02/01/2018</td>\n",
       "      <td>Quantidade de medicamentos oncologicos enviado...</td>\n",
       "      <td>Qual a quantidade mensal de Imatinibe, Dasatin...</td>\n",
       "      <td>22/01/2018</td>\n",
       "      <td>Não</td>\n",
       "      <td>...</td>\n",
       "      <td>Pelo sistema (com avisos por email)</td>\n",
       "      <td>Internet</td>\n",
       "      <td>2835133</td>\n",
       "      <td>Medicamentos e Aparelhos</td>\n",
       "      <td></td>\n",
       "      <td></td>\n",
       "      <td>22/01/2018</td>\n",
       "      <td>EM ATENçãO A SOLICITAçãO, SEGUE ANEXO COM RESP...</td>\n",
       "      <td>Acesso Concedido</td>\n",
       "      <td>Resposta solicitada inserida no Fala.Br</td>\n",
       "    </tr>\n",
       "    <tr>\n",
       "      <th>...</th>\n",
       "      <td>...</td>\n",
       "      <td>...</td>\n",
       "      <td>...</td>\n",
       "      <td>...</td>\n",
       "      <td>...</td>\n",
       "      <td>...</td>\n",
       "      <td>...</td>\n",
       "      <td>...</td>\n",
       "      <td>...</td>\n",
       "      <td>...</td>\n",
       "      <td>...</td>\n",
       "      <td>...</td>\n",
       "      <td>...</td>\n",
       "      <td>...</td>\n",
       "      <td>...</td>\n",
       "      <td>...</td>\n",
       "      <td>...</td>\n",
       "      <td>...</td>\n",
       "      <td>...</td>\n",
       "      <td>...</td>\n",
       "      <td>...</td>\n",
       "    </tr>\n",
       "    <tr>\n",
       "      <th>91414</th>\n",
       "      <td>1628789</td>\n",
       "      <td>25820008138201861</td>\n",
       "      <td>Federal</td>\n",
       "      <td>MS – Ministério da Saúde</td>\n",
       "      <td>Concluída</td>\n",
       "      <td>30/12/2018</td>\n",
       "      <td>Número Localizador da CNS</td>\n",
       "      <td>Número Localizador CNS</td>\n",
       "      <td>21/01/2019</td>\n",
       "      <td>Não</td>\n",
       "      <td>...</td>\n",
       "      <td>Pelo sistema (com avisos por email)</td>\n",
       "      <td>Internet</td>\n",
       "      <td>0</td>\n",
       "      <td>Outros em Saúde</td>\n",
       "      <td></td>\n",
       "      <td></td>\n",
       "      <td>21/01/2019</td>\n",
       "      <td>Prezado (a) senhor (a)     Em atenção a vossa ...</td>\n",
       "      <td>Acesso Concedido</td>\n",
       "      <td>Resposta solicitada inserida no Fala.Br</td>\n",
       "    </tr>\n",
       "    <tr>\n",
       "      <th>91415</th>\n",
       "      <td>1628790</td>\n",
       "      <td>25820008139201814</td>\n",
       "      <td>Federal</td>\n",
       "      <td>MS – Ministério da Saúde</td>\n",
       "      <td>Concluída</td>\n",
       "      <td>30/12/2018</td>\n",
       "      <td>Consulta Valor Pago Ajuda de Custo Programa Ma...</td>\n",
       "      <td>Gostaria de solicitar o valor pago pela Prefei...</td>\n",
       "      <td>21/01/2019</td>\n",
       "      <td>Não</td>\n",
       "      <td>...</td>\n",
       "      <td>Pelo sistema (com avisos por email)</td>\n",
       "      <td>Internet</td>\n",
       "      <td>0</td>\n",
       "      <td>Outros em Saúde</td>\n",
       "      <td></td>\n",
       "      <td></td>\n",
       "      <td>21/01/2019</td>\n",
       "      <td>NOTA TéCNICA Nº 2/2019-CGPS/DEPREPS/SGTES/MS  ...</td>\n",
       "      <td>Acesso Concedido</td>\n",
       "      <td>Resposta solicitada inserida no Fala.Br</td>\n",
       "    </tr>\n",
       "    <tr>\n",
       "      <th>91426</th>\n",
       "      <td>1628811</td>\n",
       "      <td>25820008140201831</td>\n",
       "      <td>Federal</td>\n",
       "      <td>MS – Ministério da Saúde</td>\n",
       "      <td>Concluída</td>\n",
       "      <td>31/12/2018</td>\n",
       "      <td>PB4</td>\n",
       "      <td>Solicitei o documento PB4 e me foi entregue o ...</td>\n",
       "      <td>21/01/2019</td>\n",
       "      <td>Não</td>\n",
       "      <td>...</td>\n",
       "      <td>Pelo sistema (com avisos por email)</td>\n",
       "      <td>Internet</td>\n",
       "      <td>2971348</td>\n",
       "      <td>Outros em Saúde</td>\n",
       "      <td></td>\n",
       "      <td></td>\n",
       "      <td>21/01/2019</td>\n",
       "      <td>Prezado cidadão,   A)  é necessário o comparec...</td>\n",
       "      <td>Acesso Concedido</td>\n",
       "      <td>Resposta solicitada inserida no Fala.Br</td>\n",
       "    </tr>\n",
       "    <tr>\n",
       "      <th>91431</th>\n",
       "      <td>1628818</td>\n",
       "      <td>25820008141201885</td>\n",
       "      <td>Federal</td>\n",
       "      <td>MS – Ministério da Saúde</td>\n",
       "      <td>Concluída</td>\n",
       "      <td>31/12/2018</td>\n",
       "      <td>Solicito, por gentileza, base de dados do  SIA...</td>\n",
       "      <td>Solicito, por gentileza, acesso e disponibiliz...</td>\n",
       "      <td>31/01/2019</td>\n",
       "      <td>Sim</td>\n",
       "      <td>...</td>\n",
       "      <td>Pelo sistema (com avisos por email)</td>\n",
       "      <td>Internet</td>\n",
       "      <td>0</td>\n",
       "      <td>Outros em Saúde</td>\n",
       "      <td></td>\n",
       "      <td></td>\n",
       "      <td>25/01/2019</td>\n",
       "      <td>Prezado (a) cidadão,   é importante destacar ...</td>\n",
       "      <td>Acesso Concedido</td>\n",
       "      <td>Comunicada necessidade de pagamento de custos ...</td>\n",
       "    </tr>\n",
       "    <tr>\n",
       "      <th>91448</th>\n",
       "      <td>1628838</td>\n",
       "      <td>25820008142201820</td>\n",
       "      <td>Federal</td>\n",
       "      <td>MS – Ministério da Saúde</td>\n",
       "      <td>Concluída</td>\n",
       "      <td>31/12/2018</td>\n",
       "      <td>dos recursos destinado ao município de sitio n...</td>\n",
       "      <td>UMA PLANILHA DOS RECURSOS DESTINADOS AO MUNICÍ...</td>\n",
       "      <td>21/01/2019</td>\n",
       "      <td>Não</td>\n",
       "      <td>...</td>\n",
       "      <td>Pelo sistema (com avisos por email)</td>\n",
       "      <td>Internet</td>\n",
       "      <td>2971385</td>\n",
       "      <td>Outros em Saúde</td>\n",
       "      <td></td>\n",
       "      <td></td>\n",
       "      <td>21/01/2019</td>\n",
       "      <td>Os repasses federais realizados pelo fns a tod...</td>\n",
       "      <td>Acesso Concedido</td>\n",
       "      <td>Orientação sobre como encontrar a informação s...</td>\n",
       "    </tr>\n",
       "  </tbody>\n",
       "</table>\n",
       "<p>4528 rows × 21 columns</p>\n",
       "</div>"
      ],
      "text/plain": [
       "       IdPedido    ProtocoloPedido   Esfera         OrgaoDestinatario  \\\n",
       "10      1493024  25820000001201869  Federal  MS – Ministério da Saúde   \n",
       "56      1493082  25820000003201858  Federal  MS – Ministério da Saúde   \n",
       "57      1493083  25820000004201801  Federal  MS – Ministério da Saúde   \n",
       "101     1493151  25820000006201891  Federal  MS – Ministério da Saúde   \n",
       "180     1493246  25820000009201825  Federal  MS – Ministério da Saúde   \n",
       "...         ...                ...      ...                       ...   \n",
       "91414   1628789  25820008138201861  Federal  MS – Ministério da Saúde   \n",
       "91415   1628790  25820008139201814  Federal  MS – Ministério da Saúde   \n",
       "91426   1628811  25820008140201831  Federal  MS – Ministério da Saúde   \n",
       "91431   1628818  25820008141201885  Federal  MS – Ministério da Saúde   \n",
       "91448   1628838  25820008142201820  Federal  MS – Ministério da Saúde   \n",
       "\n",
       "        Situacao DataRegistro  \\\n",
       "10     Concluída   01/01/2018   \n",
       "56     Concluída   02/01/2018   \n",
       "57     Concluída   02/01/2018   \n",
       "101    Concluída   02/01/2018   \n",
       "180    Concluída   02/01/2018   \n",
       "...          ...          ...   \n",
       "91414  Concluída   30/12/2018   \n",
       "91415  Concluída   30/12/2018   \n",
       "91426  Concluída   31/12/2018   \n",
       "91431  Concluída   31/12/2018   \n",
       "91448  Concluída   31/12/2018   \n",
       "\n",
       "                                       ResumoSolicitacao  \\\n",
       "10            Repasses anuais a hospitais universitários   \n",
       "56     Dúvidas à respeito de Cuidados Transfusionais ...   \n",
       "57                            Aplicação de Reiki no SUS.   \n",
       "101                                               Doença   \n",
       "180    Quantidade de medicamentos oncologicos enviado...   \n",
       "...                                                  ...   \n",
       "91414                          Número Localizador da CNS   \n",
       "91415  Consulta Valor Pago Ajuda de Custo Programa Ma...   \n",
       "91426                                                PB4   \n",
       "91431  Solicito, por gentileza, base de dados do  SIA...   \n",
       "91448  dos recursos destinado ao município de sitio n...   \n",
       "\n",
       "                                 DetalhamentoSolicitacao PrazoAtendimento  \\\n",
       "10     Por ano, entre 2007 e 2017, quanto (em reais) ...       22/01/2018   \n",
       "56     Ilmo Sr (a), Boa tarde!     Meu nome é Kátia R...       22/01/2018   \n",
       "57     Bom dia! No ano passado foi divulgado que tera...       22/01/2018   \n",
       "101    Bom Dia, gostaria de saber como faço para reso...       01/02/2018   \n",
       "180    Qual a quantidade mensal de Imatinibe, Dasatin...       22/01/2018   \n",
       "...                                                  ...              ...   \n",
       "91414                             Número Localizador CNS       21/01/2019   \n",
       "91415  Gostaria de solicitar o valor pago pela Prefei...       21/01/2019   \n",
       "91426  Solicitei o documento PB4 e me foi entregue o ...       21/01/2019   \n",
       "91431  Solicito, por gentileza, acesso e disponibiliz...       31/01/2019   \n",
       "91448  UMA PLANILHA DOS RECURSOS DESTINADOS AO MUNICÍ...       21/01/2019   \n",
       "\n",
       "      FoiProrrogado  ...                        FormaResposta  \\\n",
       "10              Não  ...  Pelo sistema (com avisos por email)   \n",
       "56              Não  ...  Pelo sistema (com avisos por email)   \n",
       "57              Não  ...  Pelo sistema (com avisos por email)   \n",
       "101             Sim  ...  Pelo sistema (com avisos por email)   \n",
       "180             Não  ...  Pelo sistema (com avisos por email)   \n",
       "...             ...  ...                                  ...   \n",
       "91414           Não  ...  Pelo sistema (com avisos por email)   \n",
       "91415           Não  ...  Pelo sistema (com avisos por email)   \n",
       "91426           Não  ...  Pelo sistema (com avisos por email)   \n",
       "91431           Sim  ...  Pelo sistema (com avisos por email)   \n",
       "91448           Não  ...  Pelo sistema (com avisos por email)   \n",
       "\n",
       "      OrigemSolicitacao IdSolicitante             AssuntoPedido  \\\n",
       "10             Internet       2309780           Outros em Saúde   \n",
       "56             Internet       2847134           Outros em Saúde   \n",
       "57             Internet       2847133           Outros em Saúde   \n",
       "101            Internet       2847193           Outros em Saúde   \n",
       "180            Internet       2835133  Medicamentos e Aparelhos   \n",
       "...                 ...           ...                       ...   \n",
       "91414          Internet             0           Outros em Saúde   \n",
       "91415          Internet             0           Outros em Saúde   \n",
       "91426          Internet       2971348           Outros em Saúde   \n",
       "91431          Internet             0           Outros em Saúde   \n",
       "91448          Internet       2971385           Outros em Saúde   \n",
       "\n",
       "      SubAssuntoPedido Tag DataResposta  \\\n",
       "10                           22/01/2018   \n",
       "56                           22/01/2018   \n",
       "57                           22/01/2018   \n",
       "101                          31/01/2018   \n",
       "180                          22/01/2018   \n",
       "...                ...  ..          ...   \n",
       "91414                        21/01/2019   \n",
       "91415                        21/01/2019   \n",
       "91426                        21/01/2019   \n",
       "91431                        25/01/2019   \n",
       "91448                        21/01/2019   \n",
       "\n",
       "                                                Resposta           Decisao  \\\n",
       "10     OS REPASSES FEDERAIS REALIZADOS PELO FUNDO NAC...  Acesso Concedido   \n",
       "56     Prezada,  Segue, em 2 anexos, a resposta dispo...  Acesso Concedido   \n",
       "57     Os profissionais que desejam atender com práti...  Acesso Concedido   \n",
       "101    PREZADA CIDADã, INFORMAMOS ABAIXO A RESPOSTA à...  Acesso Concedido   \n",
       "180    EM ATENçãO A SOLICITAçãO, SEGUE ANEXO COM RESP...  Acesso Concedido   \n",
       "...                                                  ...               ...   \n",
       "91414  Prezado (a) senhor (a)     Em atenção a vossa ...  Acesso Concedido   \n",
       "91415  NOTA TéCNICA Nº 2/2019-CGPS/DEPREPS/SGTES/MS  ...  Acesso Concedido   \n",
       "91426  Prezado cidadão,   A)  é necessário o comparec...  Acesso Concedido   \n",
       "91431   Prezado (a) cidadão,   é importante destacar ...  Acesso Concedido   \n",
       "91448  Os repasses federais realizados pelo fns a tod...  Acesso Concedido   \n",
       "\n",
       "                                    EspecificacaoDecisao  \n",
       "10               Resposta solicitada inserida no Fala.Br  \n",
       "56               Resposta solicitada inserida no Fala.Br  \n",
       "57               Resposta solicitada inserida no Fala.Br  \n",
       "101              Resposta solicitada inserida no Fala.Br  \n",
       "180              Resposta solicitada inserida no Fala.Br  \n",
       "...                                                  ...  \n",
       "91414            Resposta solicitada inserida no Fala.Br  \n",
       "91415            Resposta solicitada inserida no Fala.Br  \n",
       "91426            Resposta solicitada inserida no Fala.Br  \n",
       "91431  Comunicada necessidade de pagamento de custos ...  \n",
       "91448  Orientação sobre como encontrar a informação s...  \n",
       "\n",
       "[4528 rows x 21 columns]"
      ]
     },
     "execution_count": 5,
     "metadata": {},
     "output_type": "execute_result"
    }
   ],
   "source": [
    "df_saude\n"
   ]
  },
  {
   "cell_type": "markdown",
   "metadata": {},
   "source": [
    "# % Pedidos Respondidos"
   ]
  },
  {
   "cell_type": "code",
   "execution_count": 6,
   "metadata": {},
   "outputs": [
    {
     "data": {
      "text/plain": [
       "Acesso Concedido                                            3867\n",
       "Acesso Parcialmente Concedido                                215\n",
       "Acesso Negado                                                185\n",
       "Pergunta Duplicada/Repetida                                   86\n",
       "Informação Inexistente                                        67\n",
       "Órgão não tem competência para responder sobre o assunto      61\n",
       "Não se trata de solicitação de informação                     47\n",
       "Name: Decisao, dtype: int64"
      ]
     },
     "execution_count": 6,
     "metadata": {},
     "output_type": "execute_result"
    }
   ],
   "source": [
    "# Para saber as categorias das decisoes de acesso\n",
    "df_saude['Decisao'].value_counts()"
   ]
  },
  {
   "cell_type": "code",
   "execution_count": 7,
   "metadata": {},
   "outputs": [],
   "source": [
    "def porcentagem_resposta(df_saude):\n",
    "    tamanho_df_saude = df_saude.shape[0]\n",
    "    tamanho_df_saude\n",
    "\n",
    "    respondidos_df_saude = df_saude.loc[df_saude['Decisao']=='Acesso Concedido'].shape[0]\n",
    "    respondidos_df_saude = respondidos_df_saude / tamanho_df_saude*100\n",
    "    respondidos_df_saude = float(f'{respondidos_df_saude:.2f}')\n",
    "    print('Acesso Concedido : ' + str(respondidos_df_saude) +'%' )\n",
    "\n",
    "    respondidos_df_saude_parcial = df_saude.loc[df_saude['Decisao']=='Acesso Parcialmente Concedido'].shape[0]\n",
    "    respondidos_df_saude_parcial = respondidos_df_saude_parcial / tamanho_df_saude*100\n",
    "    respondidos_df_saude_parcial = float(f'{respondidos_df_saude_parcial:.2f}')\n",
    "    print('Acesso Parcialmente Concedido : ' + str(respondidos_df_saude_parcial) +'%' )\n",
    "\n",
    "    negado_df_saude = df_saude.loc[df_saude['Decisao']=='Acesso Negado'].shape[0]\n",
    "    negado_df_saude = negado_df_saude / tamanho_df_saude*100\n",
    "    negado_df_saude = float(f'{negado_df_saude:.2f}')\n",
    "    print('Acesso Negado : ' + str(negado_df_saude) +'%' )\n",
    "\n",
    "    duplicado_df_saude = df_saude.loc[df_saude['Decisao']=='Pergunta Duplicada/Repetida'].shape[0]\n",
    "    duplicado_df_saude = duplicado_df_saude / tamanho_df_saude*100\n",
    "    duplicado_df_saude = float(f'{duplicado_df_saude:.2f}')\n",
    "    print('Pergunta Duplicada/Repetida : ' + str(duplicado_df_saude) +'%' )\n",
    "\n",
    "    info_inexistente_df_saude = df_saude.loc[df_saude['Decisao']=='Informação Inexistente'].shape[0]\n",
    "    info_inexistente_df_saude = info_inexistente_df_saude / tamanho_df_saude*100\n",
    "    info_inexistente_df_saude = float(f'{info_inexistente_df_saude:.2f}')\n",
    "    print('Informação Inexistente : ' + str(info_inexistente_df_saude) +'%' )\n",
    "\n",
    "    orgao_errado_df_saude = df_saude.loc[df_saude['Decisao']=='Órgão não tem competência para responder sobre o assunto'].shape[0]\n",
    "    orgao_errado_df_saude = orgao_errado_df_saude / tamanho_df_saude*100\n",
    "    orgao_errado_df_saude = float(f'{orgao_errado_df_saude:.2f}')\n",
    "    print('Órgão não tem competência para responder sobre o assunto : ' + str(orgao_errado_df_saude) +'%' )\n",
    "\n",
    "    nao_e_pedido_df_saude = df_saude.loc[df_saude['Decisao']=='Não se trata de solicitação de informação'].shape[0]\n",
    "    nao_e_pedido_df_saude = nao_e_pedido_df_saude / tamanho_df_saude*100\n",
    "    nao_e_pedido_df_saude = float(f'{nao_e_pedido_df_saude:.2f}')\n",
    "    print('Não se trata de solicitação de informação : ' + str(nao_e_pedido_df_saude) +'%' )"
   ]
  },
  {
   "cell_type": "code",
   "execution_count": 8,
   "metadata": {},
   "outputs": [],
   "source": [
    "def porcentagem_resposta_por_assunto(df_saude, assunto = 'Outros em Saúde'):\n",
    "    tamanho_df_saude = df_saude.loc[df_saude['AssuntoPedido']==assunto].shape[0]\n",
    "    df_saude = df_saude.loc[df_saude['AssuntoPedido']==assunto]\n",
    "    print('ASSUNTO : '+ assunto)\n",
    "\n",
    "    respondidos_df_saude = df_saude.loc[df_saude['Decisao']=='Acesso Concedido'].shape[0]\n",
    "    respondidos_df_saude = respondidos_df_saude / tamanho_df_saude*100\n",
    "    respondidos_df_saude = float(f'{respondidos_df_saude:.2f}')\n",
    "    print('Acesso Concedido : ' + str(respondidos_df_saude) +'%' )\n",
    "\n",
    "    respondidos_df_saude_parcial = df_saude.loc[df_saude['Decisao']=='Acesso Parcialmente Concedido'].shape[0]\n",
    "    respondidos_df_saude_parcial = respondidos_df_saude_parcial / tamanho_df_saude*100\n",
    "    respondidos_df_saude_parcial = float(f'{respondidos_df_saude_parcial:.2f}')\n",
    "    print('Acesso Parcialmente Concedido : ' + str(respondidos_df_saude_parcial) +'%' )\n",
    "\n",
    "    negado_df_saude = df_saude.loc[df_saude['Decisao']=='Acesso Negado'].shape[0]\n",
    "    negado_df_saude = negado_df_saude / tamanho_df_saude*100\n",
    "    negado_df_saude = float(f'{negado_df_saude:.2f}')\n",
    "    print('Acesso Negado : ' + str(negado_df_saude) +'%' )\n",
    "\n",
    "    duplicado_df_saude = df_saude.loc[df_saude['Decisao']=='Pergunta Duplicada/Repetida'].shape[0]\n",
    "    duplicado_df_saude = duplicado_df_saude / tamanho_df_saude*100\n",
    "    duplicado_df_saude = float(f'{duplicado_df_saude:.2f}')\n",
    "    print('Pergunta Duplicada/Repetida : ' + str(duplicado_df_saude) +'%' )\n",
    "\n",
    "    info_inexistente_df_saude = df_saude.loc[df_saude['Decisao']=='Informação Inexistente'].shape[0]\n",
    "    info_inexistente_df_saude = info_inexistente_df_saude / tamanho_df_saude*100\n",
    "    info_inexistente_df_saude = float(f'{info_inexistente_df_saude:.2f}')\n",
    "    print('Informação Inexistente : ' + str(info_inexistente_df_saude) +'%' )\n",
    "\n",
    "    orgao_errado_df_saude = df_saude.loc[df_saude['Decisao']=='Órgão não tem competência para responder sobre o assunto'].shape[0]\n",
    "    orgao_errado_df_saude = orgao_errado_df_saude / tamanho_df_saude*100\n",
    "    orgao_errado_df_saude = float(f'{orgao_errado_df_saude:.2f}')\n",
    "    print('Órgão não tem competência para responder sobre o assunto : ' + str(orgao_errado_df_saude) +'%' )\n",
    "\n",
    "    nao_e_pedido_df_saude = df_saude.loc[df_saude['Decisao']=='Não se trata de solicitação de informação'].shape[0]\n",
    "    nao_e_pedido_df_saude = nao_e_pedido_df_saude / tamanho_df_saude*100\n",
    "    nao_e_pedido_df_saude = float(f'{nao_e_pedido_df_saude:.2f}')\n",
    "    print('Não se trata de solicitação de informação : ' + str(nao_e_pedido_df_saude) +'%' )\n",
    "    print()"
   ]
  },
  {
   "cell_type": "code",
   "execution_count": 9,
   "metadata": {},
   "outputs": [],
   "source": [
    "# Popula array de respostas para plotar no grafico\n",
    "def array_resposta(df_saude,df_saude2,df_saude3,df_saude4, condicao ='Acesso Concedido'):\n",
    "    tamanho_df_saude = df_saude.shape[0]\n",
    "    tamanho_df_saude\n",
    "    respondidos = []\n",
    "\n",
    "    respondidos_df_saude = df_saude.loc[df_saude['Decisao']==condicao].shape[0]\n",
    "    respondidos_df_saude = respondidos_df_saude / tamanho_df_saude*100\n",
    "    respondidos_df_saude = float(f'{respondidos_df_saude:.2f}')\n",
    "    respondidos.append(respondidos_df_saude)\n",
    "\n",
    "    respondidos_df_saude2 = df_saude2.loc[df_saude2['Decisao']==condicao].shape[0]\n",
    "    respondidos_df_saude2 = respondidos_df_saude2 / tamanho_df_saude*100\n",
    "    respondidos_df_saude2 = float(f'{respondidos_df_saude2:.2f}')\n",
    "    respondidos.append(respondidos_df_saude2)\n",
    "\n",
    "    respondidos_df_saude3 = df_saude3.loc[df_saude3['Decisao']==condicao].shape[0]\n",
    "    respondidos_df_saude3 = respondidos_df_saude3 / tamanho_df_saude*100\n",
    "    respondidos_df_saude3 = float(f'{respondidos_df_saude3:.2f}')\n",
    "    respondidos.append(respondidos_df_saude3)\n",
    "\n",
    "    respondidos_df_saude4 = df_saude4.loc[df_saude4['Decisao']==condicao].shape[0]\n",
    "    respondidos_df_saude4 = respondidos_df_saude4 / tamanho_df_saude*100\n",
    "    respondidos_df_saude4 = float(f'{respondidos_df_saude4:.2f}')\n",
    "    respondidos.append(respondidos_df_saude4)\n",
    "    return respondidos\n",
    "    "
   ]
  },
  {
   "cell_type": "markdown",
   "metadata": {},
   "source": [
    "# Porcentagem da decisão de pedidos por ano"
   ]
  },
  {
   "cell_type": "markdown",
   "metadata": {},
   "source": [
    "## 2018"
   ]
  },
  {
   "cell_type": "code",
   "execution_count": 10,
   "metadata": {},
   "outputs": [
    {
     "name": "stdout",
     "output_type": "stream",
     "text": [
      "Acesso Concedido : 85.4%\n",
      "Acesso Parcialmente Concedido : 4.75%\n",
      "Acesso Negado : 4.09%\n",
      "Pergunta Duplicada/Repetida : 1.9%\n",
      "Informação Inexistente : 1.48%\n",
      "Órgão não tem competência para responder sobre o assunto : 1.35%\n",
      "Não se trata de solicitação de informação : 1.04%\n"
     ]
    }
   ],
   "source": [
    "porcentagem_resposta(df_saude)"
   ]
  },
  {
   "cell_type": "markdown",
   "metadata": {},
   "source": [
    "## 2019"
   ]
  },
  {
   "cell_type": "code",
   "execution_count": 11,
   "metadata": {},
   "outputs": [
    {
     "name": "stdout",
     "output_type": "stream",
     "text": [
      "Acesso Concedido : 83.26%\n",
      "Acesso Parcialmente Concedido : 3.69%\n",
      "Acesso Negado : 4.9%\n",
      "Pergunta Duplicada/Repetida : 1.88%\n",
      "Informação Inexistente : 1.75%\n",
      "Órgão não tem competência para responder sobre o assunto : 2.33%\n",
      "Não se trata de solicitação de informação : 2.19%\n"
     ]
    }
   ],
   "source": [
    "porcentagem_resposta(df_saude2)"
   ]
  },
  {
   "cell_type": "markdown",
   "metadata": {},
   "source": [
    "## 2020"
   ]
  },
  {
   "cell_type": "code",
   "execution_count": 12,
   "metadata": {},
   "outputs": [
    {
     "name": "stdout",
     "output_type": "stream",
     "text": [
      "Acesso Concedido : 79.27%\n",
      "Acesso Parcialmente Concedido : 4.31%\n",
      "Acesso Negado : 7.55%\n",
      "Pergunta Duplicada/Repetida : 1.96%\n",
      "Informação Inexistente : 1.72%\n",
      "Órgão não tem competência para responder sobre o assunto : 2.77%\n",
      "Não se trata de solicitação de informação : 2.42%\n"
     ]
    }
   ],
   "source": [
    "porcentagem_resposta(df_saude3)"
   ]
  },
  {
   "cell_type": "markdown",
   "metadata": {},
   "source": [
    "## 2021"
   ]
  },
  {
   "cell_type": "code",
   "execution_count": 13,
   "metadata": {},
   "outputs": [
    {
     "name": "stdout",
     "output_type": "stream",
     "text": [
      "Acesso Concedido : 75.29%\n",
      "Acesso Parcialmente Concedido : 5.88%\n",
      "Acesso Negado : 9.01%\n",
      "Pergunta Duplicada/Repetida : 1.85%\n",
      "Informação Inexistente : 3.51%\n",
      "Órgão não tem competência para responder sobre o assunto : 2.39%\n",
      "Não se trata de solicitação de informação : 2.08%\n"
     ]
    }
   ],
   "source": [
    "porcentagem_resposta(df_saude4)"
   ]
  },
  {
   "cell_type": "markdown",
   "metadata": {},
   "source": [
    "# Plot das porcentagens dos acessos"
   ]
  },
  {
   "cell_type": "code",
   "execution_count": 14,
   "metadata": {},
   "outputs": [],
   "source": [
    "plt.rcParams[\"figure.figsize\"] = (20,10)"
   ]
  },
  {
   "cell_type": "code",
   "execution_count": 15,
   "metadata": {},
   "outputs": [
    {
     "data": {
      "image/png": "[encoded data removed]",
      "text/plain": [
       "<Figure size 1440x720 with 1 Axes>"
      ]
     },
     "metadata": {
      "needs_background": "light"
     },
     "output_type": "display_data"
    }
   ],
   "source": [
    "x1 = [2018,2019,2020,2021]\n",
    "y1 = array_resposta(df_saude,df_saude2,df_saude3,df_saude4, condicao ='Acesso Concedido')\n",
    "plt.plot(x1, y1, label = \"Acesso Concedido\",marker='o')\n",
    "  \n",
    "x2 = [2018,2019,2020,2021]\n",
    "y2 = array_resposta(df_saude,df_saude2,df_saude3,df_saude4, condicao ='Acesso Negado')\n",
    "plt.plot(x2, y2, label = \"Acesso Negado\",marker='o')\n",
    "\n",
    "x3 = [2018,2019,2020,2021]\n",
    "y3 = array_resposta(df_saude,df_saude2,df_saude3,df_saude4, condicao ='Acesso Parcialmente Concedido')\n",
    "plt.plot(x3, y3, label = \"Acesso Parcialmente Concedido\",marker='o')\n",
    "\n",
    "x4 = [2018,2019,2020,2021]\n",
    "y4 = array_resposta(df_saude,df_saude2,df_saude3,df_saude4, condicao ='Pergunta Duplicada/Repetida')\n",
    "plt.plot(x4, y4, label = \"Pergunta Duplicada/Repetida\",marker='o')\n",
    "  \n",
    "x5 = [2018,2019,2020,2021]\n",
    "y5 = array_resposta(df_saude,df_saude2,df_saude3,df_saude4, condicao ='Informação Inexistente')\n",
    "plt.plot(x5, y5, label = \"Informação Inexistente\",marker='o')\n",
    "\n",
    "x6 = [2018,2019,2020,2021]\n",
    "y6 = array_resposta(df_saude,df_saude2,df_saude3,df_saude4, condicao ='Órgão não tem competência para responder sobre o assunto')\n",
    "plt.plot(x6, y6, label = \"Órgão não tem competência para responder sobre o assunto\",marker='o')\n",
    "\n",
    "x7 = [2018,2019,2020,2021]\n",
    "y7 = array_resposta(df_saude,df_saude2,df_saude3,df_saude4, condicao ='Não se trata de solicitação de informação')\n",
    "plt.plot(x7, y7, label = \"Não se trata de solicitação de informação\",marker='o')\n",
    "\n",
    "plt.xlabel('Anos')\n",
    "plt.ylabel(' % dos pedidos')\n",
    "plt.title('Tipologia de Acesso (2019-2021)')\n",
    "plt.legend()\n",
    "plt.show()\n"
   ]
  },
  {
   "cell_type": "code",
   "execution_count": 16,
   "metadata": {},
   "outputs": [
    {
     "data": {
      "image/png": "[encoded data removed]",
      "text/plain": [
       "<Figure size 1440x720 with 1 Axes>"
      ]
     },
     "metadata": {
      "needs_background": "light"
     },
     "output_type": "display_data"
    }
   ],
   "source": [
    "#x1 = [2018,2019,2020,2021]\n",
    "#y1 = array_resposta(df_saude,df_saude2,df_saude3,df_saude4, condicao ='Acesso Concedido')\n",
    "#plt.plot(x1, y1, label = \"Acesso Concedido\",marker='o')\n",
    "\n",
    "#Zoom nos acessos com menor porcentagem\n",
    "  \n",
    "x2 = [2018,2019,2020,2021]\n",
    "y2 = array_resposta(df_saude,df_saude2,df_saude3,df_saude4, condicao ='Acesso Negado')\n",
    "plt.plot(x2, y2, label = \"Acesso Negado\",marker='o')\n",
    "\n",
    "x3 = [2018,2019,2020,2021]\n",
    "y3 = array_resposta(df_saude,df_saude2,df_saude3,df_saude4, condicao ='Acesso Parcialmente Concedido')\n",
    "plt.plot(x3, y3, label = \"Acesso Parcialmente Concedido\",marker='o')\n",
    "\n",
    "x4 = [2018,2019,2020,2021]\n",
    "y4 = array_resposta(df_saude,df_saude2,df_saude3,df_saude4, condicao ='Pergunta Duplicada/Repetida')\n",
    "plt.plot(x4, y4, label = \"Pergunta Duplicada/Repetida\",marker='o')\n",
    "  \n",
    "x5 = [2018,2019,2020,2021]\n",
    "y5 = array_resposta(df_saude,df_saude2,df_saude3,df_saude4, condicao ='Informação Inexistente')\n",
    "plt.plot(x5, y5, label = \"Informação Inexistente\",marker='o')\n",
    "\n",
    "x6 = [2018,2019,2020,2021]\n",
    "y6 = array_resposta(df_saude,df_saude2,df_saude3,df_saude4, condicao ='Órgão não tem competência para responder sobre o assunto')\n",
    "plt.plot(x6, y6, label = \"Órgão não tem competência para responder sobre o assunto\",marker='o')\n",
    "\n",
    "x7 = [2018,2019,2020,2021]\n",
    "y7 = array_resposta(df_saude,df_saude2,df_saude3,df_saude4, condicao ='Não se trata de solicitação de informação')\n",
    "plt.plot(x7, y7, label = \"Não se trata de solicitação de informação\",marker='o')\n",
    "\n",
    "plt.xlabel('Anos')\n",
    "plt.ylabel(' % dos pedidos')\n",
    "plt.title('Tipologia de Acesso (2019-2021)')\n",
    "plt.legend()\n",
    "plt.show()"
   ]
  },
  {
   "cell_type": "markdown",
   "metadata": {},
   "source": [
    "# Porcentagem da decisão de pedidos por ano por top 4 Assuntos"
   ]
  },
  {
   "cell_type": "markdown",
   "metadata": {},
   "source": [
    "## 2018"
   ]
  },
  {
   "cell_type": "code",
   "execution_count": 180,
   "metadata": {},
   "outputs": [
    {
     "data": {
      "text/plain": [
       "Outros em Saúde                  4165\n",
       "Medicamentos e Aparelhos          278\n",
       "Atendimento Básico                 84\n",
       "Defesa e vigilância sanitária       1\n",
       "Name: AssuntoPedido, dtype: int64"
      ]
     },
     "execution_count": 180,
     "metadata": {},
     "output_type": "execute_result"
    }
   ],
   "source": [
    "df_saude['AssuntoPedido'].value_counts()"
   ]
  },
  {
   "cell_type": "code",
   "execution_count": 181,
   "metadata": {},
   "outputs": [
    {
     "name": "stdout",
     "output_type": "stream",
     "text": [
      "ASSUNTO : Outros em Saúde\n",
      "Acesso Concedido : 85.31%\n",
      "Acesso Parcialmente Concedido : 4.63%\n",
      "Acesso Negado : 4.37%\n",
      "Pergunta Duplicada/Repetida : 1.99%\n",
      "Informação Inexistente : 1.49%\n",
      "Órgão não tem competência para responder sobre o assunto : 1.1%\n",
      "Não se trata de solicitação de informação : 1.1%\n",
      "\n",
      "ASSUNTO : Medicamentos e Aparelhos\n",
      "Acesso Concedido : 88.85%\n",
      "Acesso Parcialmente Concedido : 6.83%\n",
      "Acesso Negado : 0.72%\n",
      "Pergunta Duplicada/Repetida : 0.36%\n",
      "Informação Inexistente : 1.44%\n",
      "Órgão não tem competência para responder sobre o assunto : 1.8%\n",
      "Não se trata de solicitação de informação : 0.0%\n",
      "\n",
      "ASSUNTO : Atendimento Básico\n",
      "Acesso Concedido : 79.76%\n",
      "Acesso Parcialmente Concedido : 3.57%\n",
      "Acesso Negado : 1.19%\n",
      "Pergunta Duplicada/Repetida : 2.38%\n",
      "Informação Inexistente : 1.19%\n",
      "Órgão não tem competência para responder sobre o assunto : 10.71%\n",
      "Não se trata de solicitação de informação : 1.19%\n",
      "\n",
      "ASSUNTO : Defesa e vigilância sanitária\n",
      "Acesso Concedido : 0.0%\n",
      "Acesso Parcialmente Concedido : 0.0%\n",
      "Acesso Negado : 0.0%\n",
      "Pergunta Duplicada/Repetida : 0.0%\n",
      "Informação Inexistente : 0.0%\n",
      "Órgão não tem competência para responder sobre o assunto : 100.0%\n",
      "Não se trata de solicitação de informação : 0.0%\n",
      "\n"
     ]
    }
   ],
   "source": [
    "porcentagem_resposta_por_assunto(df_saude, assunto = 'Outros em Saúde')\n",
    "porcentagem_resposta_por_assunto(df_saude, assunto = 'Medicamentos e Aparelhos')\n",
    "porcentagem_resposta_por_assunto(df_saude, assunto = 'Atendimento Básico')\n",
    "porcentagem_resposta_por_assunto(df_saude, assunto = 'Defesa e vigilância sanitária')"
   ]
  },
  {
   "cell_type": "markdown",
   "metadata": {},
   "source": [
    "## 2019"
   ]
  },
  {
   "cell_type": "code",
   "execution_count": 182,
   "metadata": {},
   "outputs": [
    {
     "data": {
      "text/plain": [
       "Outros em Saúde                  4738\n",
       "Medicamentos e Aparelhos          388\n",
       "Atendimento Básico                 71\n",
       "Defesa e vigilância sanitária       7\n",
       "Name: AssuntoPedido, dtype: int64"
      ]
     },
     "execution_count": 182,
     "metadata": {},
     "output_type": "execute_result"
    }
   ],
   "source": [
    "df_saude2['AssuntoPedido'].value_counts()"
   ]
  },
  {
   "cell_type": "code",
   "execution_count": 183,
   "metadata": {},
   "outputs": [
    {
     "name": "stdout",
     "output_type": "stream",
     "text": [
      "ASSUNTO : Outros em Saúde\n",
      "Acesso Concedido : 82.71%\n",
      "Acesso Parcialmente Concedido : 3.8%\n",
      "Acesso Negado : 5.11%\n",
      "Pergunta Duplicada/Repetida : 1.94%\n",
      "Informação Inexistente : 1.75%\n",
      "Órgão não tem competência para responder sobre o assunto : 2.34%\n",
      "Não se trata de solicitação de informação : 2.34%\n",
      "\n",
      "ASSUNTO : Medicamentos e Aparelhos\n",
      "Acesso Concedido : 90.98%\n",
      "Acesso Parcialmente Concedido : 2.58%\n",
      "Acesso Negado : 1.8%\n",
      "Pergunta Duplicada/Repetida : 0.77%\n",
      "Informação Inexistente : 2.06%\n",
      "Órgão não tem competência para responder sobre o assunto : 1.29%\n",
      "Não se trata de solicitação de informação : 0.52%\n",
      "\n",
      "ASSUNTO : Atendimento Básico\n",
      "Acesso Concedido : 84.51%\n",
      "Acesso Parcialmente Concedido : 2.82%\n",
      "Acesso Negado : 5.63%\n",
      "Pergunta Duplicada/Repetida : 1.41%\n",
      "Informação Inexistente : 0.0%\n",
      "Órgão não tem competência para responder sobre o assunto : 4.23%\n",
      "Não se trata de solicitação de informação : 1.41%\n",
      "\n",
      "ASSUNTO : Defesa e vigilância sanitária\n",
      "Acesso Concedido : 14.29%\n",
      "Acesso Parcialmente Concedido : 0.0%\n",
      "Acesso Negado : 28.57%\n",
      "Pergunta Duplicada/Repetida : 28.57%\n",
      "Informação Inexistente : 0.0%\n",
      "Órgão não tem competência para responder sobre o assunto : 28.57%\n",
      "Não se trata de solicitação de informação : 0.0%\n",
      "\n"
     ]
    }
   ],
   "source": [
    "porcentagem_resposta_por_assunto(df_saude2, assunto = 'Outros em Saúde')\n",
    "porcentagem_resposta_por_assunto(df_saude2, assunto = 'Medicamentos e Aparelhos')\n",
    "porcentagem_resposta_por_assunto(df_saude2, assunto = 'Atendimento Básico')\n",
    "porcentagem_resposta_por_assunto(df_saude2, assunto = 'Defesa e vigilância sanitária')"
   ]
  },
  {
   "cell_type": "markdown",
   "metadata": {},
   "source": [
    "## 2020"
   ]
  },
  {
   "cell_type": "code",
   "execution_count": 184,
   "metadata": {},
   "outputs": [
    {
     "data": {
      "text/plain": [
       "Outros em Saúde             2928\n",
       "Acesso à informação          797\n",
       "Coronavírus (COVID-19)       712\n",
       "Medicamentos e Aparelhos     310\n",
       "Name: AssuntoPedido, dtype: int64"
      ]
     },
     "execution_count": 184,
     "metadata": {},
     "output_type": "execute_result"
    }
   ],
   "source": [
    "df_saude3['AssuntoPedido'].value_counts().head(4)"
   ]
  },
  {
   "cell_type": "code",
   "execution_count": 185,
   "metadata": {},
   "outputs": [
    {
     "name": "stdout",
     "output_type": "stream",
     "text": [
      "ASSUNTO : Outros em Saúde\n",
      "Acesso Concedido : 77.83%\n",
      "Acesso Parcialmente Concedido : 4.23%\n",
      "Acesso Negado : 8.74%\n",
      "Pergunta Duplicada/Repetida : 2.12%\n",
      "Informação Inexistente : 1.57%\n",
      "Órgão não tem competência para responder sobre o assunto : 2.83%\n",
      "Não se trata de solicitação de informação : 2.66%\n",
      "\n",
      "ASSUNTO : Acesso à informação\n",
      "Acesso Concedido : 82.69%\n",
      "Acesso Parcialmente Concedido : 4.14%\n",
      "Acesso Negado : 5.65%\n",
      "Pergunta Duplicada/Repetida : 1.88%\n",
      "Informação Inexistente : 3.26%\n",
      "Órgão não tem competência para responder sobre o assunto : 1.51%\n",
      "Não se trata de solicitação de informação : 0.88%\n",
      "\n",
      "ASSUNTO : Coronavírus (COVID-19)\n",
      "Acesso Concedido : 82.16%\n",
      "Acesso Parcialmente Concedido : 5.62%\n",
      "Acesso Negado : 6.04%\n",
      "Pergunta Duplicada/Repetida : 1.26%\n",
      "Informação Inexistente : 0.84%\n",
      "Órgão não tem competência para responder sobre o assunto : 2.25%\n",
      "Não se trata de solicitação de informação : 1.83%\n",
      "\n",
      "ASSUNTO : Medicamentos e Aparelhos\n",
      "Acesso Concedido : 80.32%\n",
      "Acesso Parcialmente Concedido : 0.97%\n",
      "Acesso Negado : 8.71%\n",
      "Pergunta Duplicada/Repetida : 2.9%\n",
      "Informação Inexistente : 0.97%\n",
      "Órgão não tem competência para responder sobre o assunto : 1.61%\n",
      "Não se trata de solicitação de informação : 4.52%\n",
      "\n"
     ]
    }
   ],
   "source": [
    "porcentagem_resposta_por_assunto(df_saude3, assunto = 'Outros em Saúde')\n",
    "porcentagem_resposta_por_assunto(df_saude3, assunto = 'Acesso à informação')\n",
    "porcentagem_resposta_por_assunto(df_saude3, assunto = 'Coronavírus (COVID-19)')\n",
    "porcentagem_resposta_por_assunto(df_saude3, assunto = 'Medicamentos e Aparelhos')"
   ]
  },
  {
   "cell_type": "markdown",
   "metadata": {},
   "source": [
    "## 2021"
   ]
  },
  {
   "cell_type": "code",
   "execution_count": 186,
   "metadata": {},
   "outputs": [
    {
     "data": {
      "text/plain": [
       "Acesso à informação         2356\n",
       "Outros em Saúde              792\n",
       "Coronavírus (COVID-19)       523\n",
       "Medicamentos e Aparelhos     178\n",
       "Name: AssuntoPedido, dtype: int64"
      ]
     },
     "execution_count": 186,
     "metadata": {},
     "output_type": "execute_result"
    }
   ],
   "source": [
    "df_saude4['AssuntoPedido'].value_counts().head(4)"
   ]
  },
  {
   "cell_type": "code",
   "execution_count": 187,
   "metadata": {},
   "outputs": [
    {
     "name": "stdout",
     "output_type": "stream",
     "text": [
      "ASSUNTO : Acesso à informação\n",
      "Acesso Concedido : 73.73%\n",
      "Acesso Parcialmente Concedido : 5.9%\n",
      "Acesso Negado : 11.54%\n",
      "Pergunta Duplicada/Repetida : 1.7%\n",
      "Informação Inexistente : 4.03%\n",
      "Órgão não tem competência para responder sobre o assunto : 2.04%\n",
      "Não se trata de solicitação de informação : 1.06%\n",
      "\n",
      "ASSUNTO : Outros em Saúde\n",
      "Acesso Concedido : 79.17%\n",
      "Acesso Parcialmente Concedido : 5.68%\n",
      "Acesso Negado : 5.18%\n",
      "Pergunta Duplicada/Repetida : 2.53%\n",
      "Informação Inexistente : 3.91%\n",
      "Órgão não tem competência para responder sobre o assunto : 2.02%\n",
      "Não se trata de solicitação de informação : 1.52%\n",
      "\n",
      "ASSUNTO : Coronavírus (COVID-19)\n",
      "Acesso Concedido : 74.76%\n",
      "Acesso Parcialmente Concedido : 7.07%\n",
      "Acesso Negado : 7.84%\n",
      "Pergunta Duplicada/Repetida : 1.15%\n",
      "Informação Inexistente : 3.25%\n",
      "Órgão não tem competência para responder sobre o assunto : 2.49%\n",
      "Não se trata de solicitação de informação : 3.44%\n",
      "\n",
      "ASSUNTO : Medicamentos e Aparelhos\n",
      "Acesso Concedido : 79.21%\n",
      "Acesso Parcialmente Concedido : 5.62%\n",
      "Acesso Negado : 10.11%\n",
      "Pergunta Duplicada/Repetida : 0.56%\n",
      "Informação Inexistente : 3.37%\n",
      "Órgão não tem competência para responder sobre o assunto : 0.56%\n",
      "Não se trata de solicitação de informação : 0.56%\n",
      "\n"
     ]
    }
   ],
   "source": [
    "porcentagem_resposta_por_assunto(df_saude4, assunto = 'Acesso à informação')\n",
    "porcentagem_resposta_por_assunto(df_saude4, assunto = 'Outros em Saúde')\n",
    "porcentagem_resposta_por_assunto(df_saude4, assunto = 'Coronavírus (COVID-19)')\n",
    "porcentagem_resposta_por_assunto(df_saude4, assunto = 'Medicamentos e Aparelhos')"
   ]
  },
  {
   "cell_type": "markdown",
   "metadata": {},
   "source": [
    "# Montar o txt para o Iramuteq"
   ]
  },
  {
   "cell_type": "code",
   "execution_count": 188,
   "metadata": {},
   "outputs": [],
   "source": [
    "final_stopwords = ['prezado','prezados','solicito','a','a/a', 'a/c', 'a/m', 'aa', 'abr', 'abrev', 'abril', 'ac', 'acad', 'acerca', 'acesso', 'ad', 'adeus', 'adm', 'adv', 'advo', 'advoc', 'ago', 'agora', 'agr', 'agric', 'agron', 'ai', 'ainda', 'aj', 'ajte', 'al', 'alem', 'algmas', 'algo', 'alguem', 'algum', 'alguma', 'algumas', 'alguns', 'ali', 'alii', 'alm', 'alq', 'alt', 'altit', 'alv', 'ambos', 'amg', 'amigo', 'ampla', 'amplas', 'amplo', 'amplos', 'anexo', 'anno', 'ano', 'anos', 'ante', 'antes', 'ao', 'aos', 'ap', 'apart', 'apenas', 'apend', 'apoio', 'apontar', 'apos', 'aquela', 'aquelas', 'aquele', 'aqueles', 'aqui', 'aquilo', 'arc', 'arco', 'area', 'arit', 'aritm', 'arq', 'arr', 'art', 'arts', 'as', 'assem', 'assim', 'assoc', 'at', 'ate', 'atencao', 'atras', 'atraves', 'atte', 'autor', 'av', 'b', 'ba', 'baixo', 'bal', 'base', 'bastante', 'bat', 'bb', 'bebe', 'beco', 'beis', 'bel', 'bela', 'belas', 'bem', 'bene', 'bh', 'bispo', 'bj', 'bjo', 'bjos', 'bjoss', 'bjs', 'bjss', 'blz', 'boa', 'boas', 'bom', 'bons', 'bpo', 'br', 'breve', 'brig', 'c', 'c/', 'c/a', 'c/c', 'ca', 'cab', 'cada', 'caixa', 'cal', 'calc', 'caminho', 'cap', 'caps', 'card', 'casa', 'cast', 'cat', 'catorze', 'causa', 'cdp', 'cedo', 'cel', 'cento', 'certamente', 'certeza', 'cf', 'cfe', 'cfm', 'cfr', 'ch', 'cia', 'cima', 'cinco', 'circ', 'cit', 'cl', 'clg', 'cmrj', 'co', 'cod', 'coisa', 'coisas', 'col', 'cols', 'com', 'como', 'comor', 'comprido', 'comte', 'con', 'conf', 'conhecido', 'cono', 'cons', 'conselho', 'considerar', 'conso', 'cont', 'conta', 'contra', 'contudo', 'copiar', 'corrente', 'cos', 'cp', 'cred', 'ctba', 'custa', 'cvs', 'cx', 'd', 'da', 'dado', 'dao', 'daquela', 'daquelas', 'daquele', 'daqueles', 'dar', 'das', 'data', 'dd', 'de', 'deb', 'debaixo', 'dec', 'dela', 'delas', 'dele', 'deles', 'demais', 'dentro', 'dep', 'depois', 'deps', 'des', 'desa', 'desc', 'desde', 'desligado', 'desp', 'dessa', 'dessas', 'desse', 'desses', 'desta', 'destas', 'deste', 'destes', 'deve', 'devem', 'devendo', 'dever', 'devera', 'deverao', 'deveria', 'deveriam', 'devia', 'deviam', 'dez', 'dezanove', 'dezasseis', 'dezassete', 'dezoito', 'dia', 'diac', 'diante', 'dic', 'die', 'digno', 'dipl', 'direita', 'disse', 'disso', 'disto', 'dito', 'div', 'diz', 'dizem', 'dizer', 'dlc', 'do', 'doc', 'docs', 'dois', 'dom', 'dona', 'dor', 'dos', 'doze', 'dr', 'dra', 'dras', 'drs', 'dt', 'duas', 'duvida', 'duzia', 'dz', 'e', 'ed', 'edif', 'educ', 'ee', 'eis', 'el', 'ela', 'elas', 'ele', 'eles', 'em', 'ema', 'emas', 'embora', 'emmo', 'end', 'enf', 'enfa', 'eng', 'engo', 'enquanto', 'entao', 'entre', 'enviar', 'era', 'eram', 'eramos', 'erat', 'erro', 'es', 'esc', 'essa', 'essas', 'esse', 'esses', 'est', 'esta', 'estado', 'estamos', 'estao', 'estar', 'estara', 'estas', 'estava', 'estavam', 'estavamos', 'este', 'esteja', 'estejam', 'estejamos', 'estes', 'esteve', 'estive', 'estivemos', 'estiver', 'estivera', 'estiveram', 'estiveramos', 'estiverem', 'estivermos', 'estivesse', 'estivessem', 'estivessemos', 'estiveste', 'estivestes', 'estou', 'et', 'etc', 'eu', 'ex', 'exa', 'exas', 'exemplo', 'exma', 'exmo', 'fac', 'faco', 'falta', 'fara', 'fasc', 'favor', 'faz', 'fazeis', 'fazem', 'fazemos', 'fazendo', 'fazer', 'fazes', 'fazia', 'feita', 'feitas', 'feito', 'feitos', 'fem', 'fev', 'fez', 'ff', 'fg', 'fig', 'fim', 'final', 'fj', 'fl', 'foi', 'fol', 'folha', 'fols', 'fomos', 'for', 'fora', 'foram', 'foramos', 'forem', 'forma', 'formos', 'fosse', 'fossem', 'fossemos', 'foste', 'fostes', 'fs', 'fui', 'g/p', 'gal', 'gen', 'geral', 'glr', 'gostar', 'gostaria', 'gov', 'gr', 'grande', 'grandes', 'grao', 'grosa', 'grs', 'grupo', 'ha', 'hab', 'haja', 'hajam', 'hajamos', 'hao', 'havemos', 'haver', 'havia', 'hei', 'hoje', 'hora', 'horas', 'houve', 'houvemos', 'houver', 'houvera', 'houveram', 'houveramos', 'houverao', 'houverei', 'houverem', 'houveremos', 'houveria', 'houveriam', 'houveriamos', 'houvermos', 'houvesse', 'houvessem', 'houvessemos', 'ia', 'ib', 'ibid', 'icq', 'id', 'idem', 'il', 'ilha', 'ilma', 'ilmo', 'ind', 'inf', 'informacao', 'informacoes', 'informar', 'iniciar', 'inicio', 'ir', 'ira', 'isso', 'ista', 'iste', 'isto', 'ja', 'jan', 'jd', 'jpa', 'juizo', 'jul', 'julho', 'jun', 'junho', 'jur', 'kd', 'kra', 'kta', 'la', 'lado', 'largo', 'ldeg', 'leg', 'legal', 'legs', 'legua', 'letra', 'lg', 'lhe', 'lhes', 'ligado', 'liv', 'lle', 'lo', 'local', 'log', 'logar', 'logo', 'longe', 'lt', 'ltda', 'lugar', 'm', 'm/', 'm/c', 'm/c/c', 'm/ch', 'm/com', 'm/d', 'm/no', 'm/o', 'm/p', 'm/ref', 'm/rem', 'm/s', 'ma', 'mag', 'maga', 'magas', 'mai', 'mail', 'maio', 'maior', 'maioria', 'maiorias', 'mais', 'maj', 'major', 'mal', 'mao', 'mar', 'marco', 'mas', 'masc', 'maximo', 'me', 'med', 'meio', 'memo', 'memor', 'menor', 'menos', 'mes', 'meses', 'mesma', 'mesmas', 'mesmo', 'mesmos', 'meu', 'meus', 'mil', 'minha', 'minhas', 'ministerio', 'mlle', 'mm', 'mme', 'mo', 'momento', 'mons', 'mr', 'mrs', 'ms', 'msm', 'mss', 'muita', 'muitas', 'muito', 'muitos', 'mun', 'n/', 'n/c', 'n/ch', 'n/l', 'n/s', 'na', 'nada', 'nao', 'naquela', 'naquelas', 'naquele', 'naqueles', 'nas', 'naum', 'nem', 'nenhum', 'nenhuma', 'nessa', 'nessas', 'nesse', 'nesses', 'nesta', 'nestas', 'neste', 'nestes', 'ngm', 'ninguem', 'nivel', 'niver', 'no', 'noite', 'nome', 'nomes', 'nos', 'nossa', 'nossas', 'nosso', 'nossos', 'nov', 'nova', 'novas', 'nove', 'novo', 'novos', 'num', 'numa', 'numerar', 'numero', 'nunca', 'o', 'o/', 'ob', 'obg', 'obra', 'obrigada', 'obrigado', 'obrigar', 'obs', 'of', 'oitava', 'oitavo', 'oito', 'ola', 'onde', 'ontem', 'onze', 'op', 'or', 'org', 'os', 'ou', 'out', 'outra', 'outras', 'outro', 'outros', 'p/', 'p/c', 'padre', 'pagou', 'pal', 'palmo', 'par', 'para', 'parece', 'paro', 'parte', 'partir', 'pass', 'passo', 'paucas', 'pc', 'pda', 'pdp', 'pe', 'peca', 'peco', 'pede', 'pegar', 'pela', 'pelas', 'pelo', 'pelos', 'peq', 'pequena', 'pequenas', 'pequeno', 'pequenos', 'per', 'perante', 'periodo', 'perto', 'pessoas', 'pg', 'pgto', 'ph', 'po', 'pode', 'podem', 'podendo', 'poder', 'podera', 'poderia', 'poderiam', 'podia', 'podiam', 'poe', 'poem', 'pois', 'pol', 'ponto', 'pontos', 'por', 'porem', 'porque', 'port', 'posicao', 'possivel', 'possivelmente', 'posso', 'post', 'pouca', 'poucas', 'pouco', 'poucos', 'povo', 'pp', 'pprt', 'pq', 'pr', 'praca', 'praia', 'pref', 'pres', 'presb', 'prezar', 'primeira', 'primeiras', 'primeiro', 'primeiros', 'prob', 'probl', 'proc', 'prof', 'profa', 'profs', 'prom', 'promeiro', 'propria', 'proprias', 'proprio', 'proprios', 'proxima', 'proximas', 'proximo', 'proximos', 'prq', 'ps', 'publicar', 'pude', 'puderam', 'qal', 'ql', 'qnd', 'qt', 'qts', 'quais', 'qual', 'qualquer', 'quando', 'quanto', 'quantos', 'quarta', 'quarto', 'quatro', 'que', 'quem', 'quer', 'quereis', 'querem', 'queremas', 'queres', 'quero', 'questao', 'quieto', 'quinta', 'quinto', 'quinze', 'quod', 'r', 'ra', 'ras', 'rdv', 'realizar', 'rec', 'ref', 'refetente', 'reg', 'rei', 'rel', 'relacao', 'relat', 'rem', 'remte', 'res', 'resposta', 'reu', 'rev', 'reva', 'revas', 'revdo', 'revma', 'revmo', 'revo', 'rg', 'rj', 'rod', 'rs', 'rtn', 'rua', 'rubr', 's', 's/a', 's/c', 's/d', 'sa', 'sabe', 'sabem', 'saber', 'sac', 'saco', 'sacos', 'santa', 'santo', 'sao', 'sarg', 'sas', 'satis', 'saude', 'sc', 'scs', 'sdds', 'se', 'sec', 'secao', 'secr', 'secs', 'seg', 'segs', 'seguinte', 'segunda', 'segundo', 'sei', 'seis', 'seja', 'sejam', 'sejamos', 'sem', 'semin', 'sempre', 'sen', 'sendo', 'seno', 'ser', 'sera', 'serao', 'serei', 'seremos', 'seria', 'seriam', 'seriamos', 'serie', 'set', 'sete', 'setima', 'setimo', 'seu', 'seus', 'sexta', 'sexto', 'si', 'sido', 'sim', 'sine', 'sistema', 'slc', 'smp', 'snt', 'so', 'sob', 'sobre', 'soc', 'sois', 'solicitar', 'somente', 'somos', 'sor', 'soror', 'sou', 'sp', 'sr', 'sra', 'sras', 'srs', 'srta', 'srtas', 'ss', 'sta', 'sto', 'sua', 'suas', 'suc', 'sul', 'ta', 'tal', 'talvez', 'tambem', 'tampouco', 'tanta', 'tantas', 'tanto', 'tao', 'tarde', 'tas', 'tb', 'tbm', 'tc', 'td', 'tdb', 'tds', 'te', 'tel', 'tem', 'temos', 'tempo', 'ten', 'tendes', 'tendo', 'tenha', 'tenham', 'tenhamos', 'tenho', 'tens', 'tentar', 'tentaram', 'tente', 'tentei', 'ter', 'tera', 'terao', 'terceira', 'terceiro', 'terei', 'teremos', 'teria', 'teriam', 'teriamos', 'tes', 'test', 'testo', 'teu', 'teus', 'teve', 'ti', 'tido', 'tinha', 'tinham', 'tinhamos', 'tipo', 'tit', 'tive', 'tivemos', 'tiver', 'tivera', 'tiveram', 'tiveramos', 'tiverem', 'tivermos', 'tivesse', 'tivessem', 'tivessemos', 'tiveste', 'tivestes', 'tmj', 'to', 'toda', 'todas', 'todavia', 'todo', 'todos', 'tomo', 'tomos', 'ton', 'tonel', 'total', 'trab', 'trabalhar', 'trabalho', 'trat', 'tres', 'trevo', 'treze', 'trim', 'trv', 'ts', 'tt', 'tte', 'tu', 'tua', 'tuas', 'tudo', 'tv', 'uin', 'ultima', 'ultimas', 'ultimo', 'ultimos', 'um', 'uma', 'umas', 'un', 'univ', 'uns', 'uol', 'us', 'usa', 'usada', 'usado', 'usar', 'uso', 'v', 'vai', 'vais', 'val', 'valor', 'vao', 'varios', 'vc', 'vcs', 'vd', 'vde', 'veja', 'vem', 'vendo', 'vens', 'ver', 'verbi', 'verdade', 'verdadeiro', 'vet', 'vez', 'vezes', 'via', 'viagem', 'vice', 'vide', 'vig', 'vigo', 'vindo', 'vinte', 'vir', 'voce', 'voces', 'vol', 'vols', 'vos', 'vossa', 'vossas', 'vosso', 'vossos', 'vsf', 'x', 'zero']"
   ]
  },
  {
   "cell_type": "code",
   "execution_count": 189,
   "metadata": {},
   "outputs": [],
   "source": [
    "def remove_punctuations(text):\n",
    "    for punctuation in string.punctuation:\n",
    "        text = text.replace(punctuation, '')\n",
    "    return text"
   ]
  },
  {
   "cell_type": "markdown",
   "metadata": {},
   "source": [
    "## DF 2018"
   ]
  },
  {
   "cell_type": "code",
   "execution_count": 190,
   "metadata": {},
   "outputs": [
    {
     "data": {
      "text/plain": [
       "10       2007 2017 reais repassou reais hospital univer...\n",
       "56       katia reis anjos cidada brasileira residente t...\n",
       "57       passado divulgado terapias alternativas inclui...\n",
       "101      resolver problema comunidade vila siriji vicen...\n",
       "180      quantidade mensal imatinibe dasatinibe nilotin...\n",
       "                               ...                        \n",
       "91414                                      localizador cns\n",
       "91415    pago prefeitura pinheiromaranhao destinado aju...\n",
       "91426    solicitei documento pb4 entregue ib2 pb4 espec...\n",
       "91431    gentileza disponibilizacao dados siasisesai mo...\n",
       "91448      planilha recursos destinados municipio sitio rn\n",
       "Name: DetalhamentoSolicitacao, Length: 4528, dtype: object"
      ]
     },
     "execution_count": 190,
     "metadata": {},
     "output_type": "execute_result"
    }
   ],
   "source": [
    "for col in ['DetalhamentoSolicitacao']:\n",
    "    df_saude['DetalhamentoSolicitacao'] = df_saude['DetalhamentoSolicitacao'].astype(str).apply(unidecode)\n",
    "\n",
    "df_saude['DetalhamentoSolicitacao'] = df_saude['DetalhamentoSolicitacao'].apply(remove_punctuations)\n",
    "df_saude['DetalhamentoSolicitacao'] = df_saude['DetalhamentoSolicitacao'].map(lambda x: x.lower() if isinstance(x,str) else x)\n",
    "df_saude['DetalhamentoSolicitacao'] = df_saude['DetalhamentoSolicitacao'].apply(lambda x: ' '.join([word for word in x.split() if word not in (final_stopwords)]))\n",
    "df_saude['DetalhamentoSolicitacao']"
   ]
  },
  {
   "cell_type": "code",
   "execution_count": 191,
   "metadata": {},
   "outputs": [
    {
     "data": {
      "text/plain": [
       "10       **** *1493024\\n2007 2017 reais repassou reais ...\n",
       "56       **** *1493082\\nkatia reis anjos cidada brasile...\n",
       "57       **** *1493083\\npassado divulgado terapias alte...\n",
       "101      **** *1493151\\nresolver problema comunidade vi...\n",
       "180      **** *1493246\\nquantidade mensal imatinibe das...\n",
       "                               ...                        \n",
       "91414                     **** *1628789\\nlocalizador cns\\n\n",
       "91415    **** *1628790\\npago prefeitura pinheiromaranha...\n",
       "91426    **** *1628811\\nsolicitei documento pb4 entregu...\n",
       "91431    **** *1628818\\ngentileza disponibilizacao dado...\n",
       "91448    **** *1628838\\nplanilha recursos destinados mu...\n",
       "Name: agregado, Length: 4528, dtype: object"
      ]
     },
     "execution_count": 191,
     "metadata": {},
     "output_type": "execute_result"
    }
   ],
   "source": [
    "df_saude['agregado'] = '**** *' + df_saude['IdPedido'].astype(str) +'\\n'+ df_saude['DetalhamentoSolicitacao'] + '\\n' \n",
    "df_saude['agregado']"
   ]
  },
  {
   "cell_type": "code",
   "execution_count": 192,
   "metadata": {},
   "outputs": [],
   "source": [
    "#Alterar o PATH pelo path onde deseja salvar o arquivo\n",
    "np.savetxt(r'C:/PATH/texto2018.txt', df_saude.agregado.values,fmt='%s')"
   ]
  },
  {
   "cell_type": "markdown",
   "metadata": {},
   "source": [
    "## DF 2019"
   ]
  },
  {
   "cell_type": "code",
   "execution_count": 193,
   "metadata": {},
   "outputs": [
    {
     "data": {
      "text/plain": [
       "7        manifestacao segadgo itens relacionados abaixo...\n",
       "9        esclarecimentos corregedoria visto 2 servidora...\n",
       "12       3tres servidor lotado dseiaraguaia removido mo...\n",
       "13       confirmacao servidora vera lucia regis bogea s...\n",
       "14       servidora leila maria silva rosa fonseca atual...\n",
       "                               ...                        \n",
       "95965    abortos legais praticados 2019 aumento reducao...\n",
       "95993    chamo bruno 22 morador municipio brumado bahia...\n",
       "96020                                  expandir boca igual\n",
       "96075    centros especialidades odontologicas ceos aten...\n",
       "96109    taxa brasileira suicidios sexo faixa etaria 10...\n",
       "Name: DetalhamentoSolicitacao, Length: 5204, dtype: object"
      ]
     },
     "execution_count": 193,
     "metadata": {},
     "output_type": "execute_result"
    }
   ],
   "source": [
    "for col in ['DetalhamentoSolicitacao']:\n",
    "    df_saude2['DetalhamentoSolicitacao'] = df_saude2['DetalhamentoSolicitacao'].astype(str).apply(unidecode)\n",
    "\n",
    "df_saude2['DetalhamentoSolicitacao'] = df_saude2['DetalhamentoSolicitacao'].apply(remove_punctuations)\n",
    "df_saude2['DetalhamentoSolicitacao'] = df_saude2['DetalhamentoSolicitacao'].map(lambda x: x.lower() if isinstance(x,str) else x)\n",
    "df_saude2['DetalhamentoSolicitacao'] = df_saude2['DetalhamentoSolicitacao'].apply(lambda x: ' '.join([word for word in x.split() if word not in (final_stopwords)]))\n",
    "df_saude2['DetalhamentoSolicitacao']"
   ]
  },
  {
   "cell_type": "code",
   "execution_count": 194,
   "metadata": {},
   "outputs": [
    {
     "data": {
      "text/plain": [
       "7        **** *1628870\\nmanifestacao segadgo itens rela...\n",
       "9        **** *1628873\\nesclarecimentos corregedoria vi...\n",
       "12       **** *1628876\\n3tres servidor lotado dseiaragu...\n",
       "13       **** *1628877\\nconfirmacao servidora vera luci...\n",
       "14       **** *1628878\\nservidora leila maria silva ros...\n",
       "                               ...                        \n",
       "95965    **** *2212618\\nabortos legais praticados 2019 ...\n",
       "95993    **** *2212871\\nchamo bruno 22 morador municipi...\n",
       "96020                 **** *2213072\\nexpandir boca igual\\n\n",
       "96075    **** *2213435\\ncentros especialidades odontolo...\n",
       "96109    **** *2213751\\ntaxa brasileira suicidios sexo ...\n",
       "Name: agregado, Length: 5204, dtype: object"
      ]
     },
     "execution_count": 194,
     "metadata": {},
     "output_type": "execute_result"
    }
   ],
   "source": [
    "df_saude2['agregado'] = '**** *' + df_saude2['IdPedido'].astype(str) +'\\n'+ df_saude2['DetalhamentoSolicitacao'] + '\\n' \n",
    "df_saude2['agregado']"
   ]
  },
  {
   "cell_type": "code",
   "execution_count": 195,
   "metadata": {},
   "outputs": [],
   "source": [
    "#Alterar o PATH pelo path onde deseja salvar o arquivo\n",
    "np.savetxt(r'C:/PATH/texto2019.txt', df_saude2.agregado.values,fmt='%s')"
   ]
  },
  {
   "cell_type": "markdown",
   "metadata": {},
   "source": [
    "## DF 2020"
   ]
  },
  {
   "cell_type": "code",
   "execution_count": 196,
   "metadata": {},
   "outputs": [
    {
     "data": {
      "text/plain": [
       "125       dados referentes planilhas sinan notificacoes ...\n",
       "640       solicitacao 10 medicamentos judicializados 201...\n",
       "641       custo anual 2015 2019 aquisicao insumos medica...\n",
       "666       numeros vendas molecula farmacia popular dados...\n",
       "732       duvidas andamento pronon precisa fgts inss apr...\n",
       "                                ...                        \n",
       "111441    acordo fundo rotatorio opasoms aquisicao serin...\n",
       "111446    integra atas coe pedido respondido dezembro ja...\n",
       "111504    doutoranda curso epidemiologia publica ensp fi...\n",
       "111544    casos esquistossomose notificacao endereco pro...\n",
       "111552    obitos registrados 2010 2011 2012 2013 2014 20...\n",
       "Name: DetalhamentoSolicitacao, Length: 5244, dtype: object"
      ]
     },
     "execution_count": 196,
     "metadata": {},
     "output_type": "execute_result"
    }
   ],
   "source": [
    "for col in ['DetalhamentoSolicitacao']:\n",
    "    df_saude3['DetalhamentoSolicitacao'] = df_saude3['DetalhamentoSolicitacao'].astype(str).apply(unidecode)\n",
    "\n",
    "df_saude3['DetalhamentoSolicitacao'] = df_saude3['DetalhamentoSolicitacao'].apply(remove_punctuations)\n",
    "df_saude3['DetalhamentoSolicitacao'] = df_saude3['DetalhamentoSolicitacao'].map(lambda x: x.lower() if isinstance(x,str) else x)\n",
    "df_saude3['DetalhamentoSolicitacao'] = df_saude3['DetalhamentoSolicitacao'].apply(lambda x: ' '.join([word for word in x.split() if word not in (final_stopwords)]))\n",
    "df_saude3['DetalhamentoSolicitacao']"
   ]
  },
  {
   "cell_type": "code",
   "execution_count": 197,
   "metadata": {},
   "outputs": [
    {
     "data": {
      "text/plain": [
       "125       **** *1436013\\ndados referentes planilhas sina...\n",
       "640       **** *1927867\\nsolicitacao 10 medicamentos jud...\n",
       "641       **** *1927875\\ncusto anual 2015 2019 aquisicao...\n",
       "666       **** *1928086\\nnumeros vendas molecula farmaci...\n",
       "732       **** *1928697\\nduvidas andamento pronon precis...\n",
       "                                ...                        \n",
       "111441    **** *2792321\\nacordo fundo rotatorio opasoms ...\n",
       "111446    **** *2792400\\nintegra atas coe pedido respond...\n",
       "111504    **** *2793047\\ndoutoranda curso epidemiologia ...\n",
       "111544    **** *2793589\\ncasos esquistossomose notificac...\n",
       "111552    **** *2793668\\nobitos registrados 2010 2011 20...\n",
       "Name: agregado, Length: 5244, dtype: object"
      ]
     },
     "execution_count": 197,
     "metadata": {},
     "output_type": "execute_result"
    }
   ],
   "source": [
    "df_saude3['agregado'] = '**** *' + df_saude3['IdPedido'].astype(str) +'\\n'+ df_saude3['DetalhamentoSolicitacao'] + '\\n' \n",
    "df_saude3['agregado']"
   ]
  },
  {
   "cell_type": "code",
   "execution_count": 198,
   "metadata": {},
   "outputs": [],
   "source": [
    "#Alterar o PATH pelo path onde deseja salvar o arquivo\n",
    "np.savetxt(r'C:/PATH/texto2020.txt', df_saude3.agregado.values,fmt='%s')"
   ]
  },
  {
   "cell_type": "markdown",
   "metadata": {},
   "source": [
    "## DF 2021  "
   ]
  },
  {
   "cell_type": "code",
   "execution_count": 199,
   "metadata": {},
   "outputs": [
    {
     "data": {
      "text/plain": [
       "13       gasto testes diagnostico governo comprou 2020 ...\n",
       "25       transplantes medula ossea doenca falciforme re...\n",
       "26                                               consultas\n",
       "58       vista realidade fatos epessoal tcu documentos ...\n",
       "115      caros integra processos 25000184349202078 2500...\n",
       "                               ...                        \n",
       "79503    acessar gentileza lista presenca ata reuniao c...\n",
       "79520    eduardo hallak condicao cidadao brasileiro fun...\n",
       "79522    cordiais cumprimentos venho procedimentos cris...\n",
       "79541    estudante mestrado economia ufpe lei planilhas...\n",
       "79593    quantitativo servidores efetivos comissao usuf...\n",
       "Name: DetalhamentoSolicitacao, Length: 4763, dtype: object"
      ]
     },
     "execution_count": 199,
     "metadata": {},
     "output_type": "execute_result"
    }
   ],
   "source": [
    "for col in ['DetalhamentoSolicitacao']:\n",
    "    df_saude4['DetalhamentoSolicitacao'] = df_saude4['DetalhamentoSolicitacao'].astype(str).apply(unidecode)\n",
    "\n",
    "df_saude4['DetalhamentoSolicitacao'] = df_saude4['DetalhamentoSolicitacao'].apply(remove_punctuations)\n",
    "df_saude4['DetalhamentoSolicitacao'] = df_saude4['DetalhamentoSolicitacao'].map(lambda x: x.lower() if isinstance(x,str) else x)\n",
    "df_saude4['DetalhamentoSolicitacao'] = df_saude4['DetalhamentoSolicitacao'].apply(lambda x: ' '.join([word for word in x.split() if word not in (final_stopwords)]))\n",
    "df_saude4['DetalhamentoSolicitacao']"
   ]
  },
  {
   "cell_type": "code",
   "execution_count": 200,
   "metadata": {},
   "outputs": [
    {
     "data": {
      "text/plain": [
       "13       **** *2793855\\ngasto testes diagnostico govern...\n",
       "25       **** *2794115\\ntransplantes medula ossea doenc...\n",
       "26                              **** *2794116\\nconsultas\\n\n",
       "58       **** *2794524\\nvista realidade fatos epessoal ...\n",
       "115      **** *2795218\\ncaros integra processos 2500018...\n",
       "                               ...                        \n",
       "79503    **** *3876569\\nacessar gentileza lista presenc...\n",
       "79520    **** *3876996\\neduardo hallak condicao cidadao...\n",
       "79522    **** *3877095\\ncordiais cumprimentos venho pro...\n",
       "79541    **** *3877503\\nestudante mestrado economia ufp...\n",
       "79593    **** *3878459\\nquantitativo servidores efetivo...\n",
       "Name: agregado, Length: 4763, dtype: object"
      ]
     },
     "execution_count": 200,
     "metadata": {},
     "output_type": "execute_result"
    }
   ],
   "source": [
    "df_saude4['agregado'] = '**** *' + df_saude4['IdPedido'].astype(str) +'\\n'+ df_saude4['DetalhamentoSolicitacao'] + '\\n' \n",
    "df_saude4['agregado']"
   ]
  },
  {
   "cell_type": "code",
   "execution_count": 201,
   "metadata": {},
   "outputs": [],
   "source": [
    "#Alterar o PATH pelo path onde deseja salvar o arquivo\n",
    "np.savetxt(r'C:/PATH/texto2021.txt', df_saude4.agregado.values,fmt='%s')"
   ]
  },
  {
   "cell_type": "markdown",
   "metadata": {},
   "source": [
    "# Profile Report"
   ]
  },
  {
   "cell_type": "code",
   "execution_count": 202,
   "metadata": {},
   "outputs": [],
   "source": [
    "profile_2018 = ProfileReport(df_saude, minimal=True)\n",
    "profile_2018.to_file(\"report_2018.html\")"
   ]
  },
  {
   "cell_type": "code",
   "execution_count": 203,
   "metadata": {},
   "outputs": [],
   "source": [
    "profile_2019 = ProfileReport(df_saude2, minimal=True)\n",
    "profile_2019.to_file(\"report_2019.html\")"
   ]
  },
  {
   "cell_type": "code",
   "execution_count": 204,
   "metadata": {},
   "outputs": [],
   "source": [
    "profile_2020 = ProfileReport(df_saude3, minimal=True)\n",
    "profile_2020.to_file(\"report_2020.html\")"
   ]
  },
  {
   "cell_type": "code",
   "execution_count": 205,
   "metadata": {},
   "outputs": [],
   "source": [
    "profile_2021 = ProfileReport(df_saude4, minimal=True)\n",
    "profile_2021.to_file(\"report_2021.html\")"
   ]
  }
 ],
 "metadata": {
  "kernelspec": {
   "display_name": "Python 3.9.5 64-bit",
   "language": "python",
   "name": "python3"
  },
  "language_info": {
   "codemirror_mode": {
    "name": "ipython",
    "version": 3
   },
   "file_extension": ".py",
   "mimetype": "text/x-python",
   "name": "python",
   "nbconvert_exporter": "python",
   "pygments_lexer": "ipython3",
   "version": "3.9.5"
  },
  "orig_nbformat": 4,
  "vscode": {
   "interpreter": {
    "hash": "9086939b8ecad308c0e456d637d66735795600662e817977e11c65538290dfd0"
   }
  }
 },
 "nbformat": 4,
 "nbformat_minor": 2
}
